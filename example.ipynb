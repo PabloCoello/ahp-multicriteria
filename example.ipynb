{
 "metadata": {
  "language_info": {
   "codemirror_mode": {
    "name": "ipython",
    "version": 3
   },
   "file_extension": ".py",
   "mimetype": "text/x-python",
   "name": "python",
   "nbconvert_exporter": "python",
   "pygments_lexer": "ipython3",
   "version": "3.8.6-final"
  },
  "orig_nbformat": 2,
  "kernelspec": {
   "name": "python38664bit3e416ecba7d74e94a357d28dfb0cef60",
   "display_name": "Python 3.8.6 64-bit",
   "language": "python"
  }
 },
 "nbformat": 4,
 "nbformat_minor": 2,
 "cells": [
  {
   "source": [
    "We start loading the required python modules."
   ],
   "cell_type": "markdown",
   "metadata": {}
  },
  {
   "cell_type": "code",
   "execution_count": 39,
   "metadata": {},
   "outputs": [],
   "source": [
    "import pandas as pd\n",
    "import numpy as np\n",
    "from saaty import ahp"
   ]
  },
  {
   "source": [
    "And the dummy data for the example."
   ],
   "cell_type": "markdown",
   "metadata": {}
  },
  {
   "cell_type": "code",
   "execution_count": 40,
   "metadata": {},
   "outputs": [],
   "source": [
    "data = pd.read_excel(\"data/dummy_survey_data.xlsx\")\n",
    "dummy = pd.read_excel(\"data/dummy_asneves.xlsx\")"
   ]
  },
  {
   "source": [],
   "cell_type": "markdown",
   "metadata": {}
  },
  {
   "source": [
    "As we can see, data is a sample of dummy responses to a saaty questionnaire that evaluates the main attributes env, coste, social and econ; and the subattributes nocons, zepaozec and zepayzedc that are located inside env."
   ],
   "cell_type": "markdown",
   "metadata": {}
  },
  {
   "cell_type": "code",
   "execution_count": 41,
   "metadata": {},
   "outputs": [
    {
     "output_type": "execute_result",
     "data": {
      "text/plain": [
       "   REGISTRO  1_econ_social  1_resp  2_econ_env  2_resp  3_econ_coste  3_resp  \\\n",
       "0        45              1       5           1       5             1       6   \n",
       "1        56              2       9           2       9             2       9   \n",
       "2        58              1       6           1       5             2       6   \n",
       "3        59              1       9           1       7             1       5   \n",
       "4        60              1       7           2       9             1       8   \n",
       "\n",
       "   4_env_coste  4_resp  5_env_social  5_resp  6_social_coste  6_resp  \\\n",
       "0            2       7             2       9               1       5   \n",
       "1            1       7             1       9               1       8   \n",
       "2            1       5             1       5               2       6   \n",
       "3            2       7             1       8               2       7   \n",
       "4            1       9             1       9               1       9   \n",
       "\n",
       "   7_nocons_zepaozec  7_resp  8_nocons_zepayzec  8_resp  9_zepaozec_zepayzec  \\\n",
       "0                  1       5                  1       6                    1   \n",
       "1                  2       9                  2       9                    2   \n",
       "2                  1       5                  1       6                    2   \n",
       "3                  2       7                  2       8                    2   \n",
       "4                  2       9                  1       8                    1   \n",
       "\n",
       "   9_resp  \n",
       "0       5  \n",
       "1       9  \n",
       "2       5  \n",
       "3       7  \n",
       "4       8  "
      ],
      "text/html": "<div>\n<style scoped>\n    .dataframe tbody tr th:only-of-type {\n        vertical-align: middle;\n    }\n\n    .dataframe tbody tr th {\n        vertical-align: top;\n    }\n\n    .dataframe thead th {\n        text-align: right;\n    }\n</style>\n<table border=\"1\" class=\"dataframe\">\n  <thead>\n    <tr style=\"text-align: right;\">\n      <th></th>\n      <th>REGISTRO</th>\n      <th>1_econ_social</th>\n      <th>1_resp</th>\n      <th>2_econ_env</th>\n      <th>2_resp</th>\n      <th>3_econ_coste</th>\n      <th>3_resp</th>\n      <th>4_env_coste</th>\n      <th>4_resp</th>\n      <th>5_env_social</th>\n      <th>5_resp</th>\n      <th>6_social_coste</th>\n      <th>6_resp</th>\n      <th>7_nocons_zepaozec</th>\n      <th>7_resp</th>\n      <th>8_nocons_zepayzec</th>\n      <th>8_resp</th>\n      <th>9_zepaozec_zepayzec</th>\n      <th>9_resp</th>\n    </tr>\n  </thead>\n  <tbody>\n    <tr>\n      <th>0</th>\n      <td>45</td>\n      <td>1</td>\n      <td>5</td>\n      <td>1</td>\n      <td>5</td>\n      <td>1</td>\n      <td>6</td>\n      <td>2</td>\n      <td>7</td>\n      <td>2</td>\n      <td>9</td>\n      <td>1</td>\n      <td>5</td>\n      <td>1</td>\n      <td>5</td>\n      <td>1</td>\n      <td>6</td>\n      <td>1</td>\n      <td>5</td>\n    </tr>\n    <tr>\n      <th>1</th>\n      <td>56</td>\n      <td>2</td>\n      <td>9</td>\n      <td>2</td>\n      <td>9</td>\n      <td>2</td>\n      <td>9</td>\n      <td>1</td>\n      <td>7</td>\n      <td>1</td>\n      <td>9</td>\n      <td>1</td>\n      <td>8</td>\n      <td>2</td>\n      <td>9</td>\n      <td>2</td>\n      <td>9</td>\n      <td>2</td>\n      <td>9</td>\n    </tr>\n    <tr>\n      <th>2</th>\n      <td>58</td>\n      <td>1</td>\n      <td>6</td>\n      <td>1</td>\n      <td>5</td>\n      <td>2</td>\n      <td>6</td>\n      <td>1</td>\n      <td>5</td>\n      <td>1</td>\n      <td>5</td>\n      <td>2</td>\n      <td>6</td>\n      <td>1</td>\n      <td>5</td>\n      <td>1</td>\n      <td>6</td>\n      <td>2</td>\n      <td>5</td>\n    </tr>\n    <tr>\n      <th>3</th>\n      <td>59</td>\n      <td>1</td>\n      <td>9</td>\n      <td>1</td>\n      <td>7</td>\n      <td>1</td>\n      <td>5</td>\n      <td>2</td>\n      <td>7</td>\n      <td>1</td>\n      <td>8</td>\n      <td>2</td>\n      <td>7</td>\n      <td>2</td>\n      <td>7</td>\n      <td>2</td>\n      <td>8</td>\n      <td>2</td>\n      <td>7</td>\n    </tr>\n    <tr>\n      <th>4</th>\n      <td>60</td>\n      <td>1</td>\n      <td>7</td>\n      <td>2</td>\n      <td>9</td>\n      <td>1</td>\n      <td>8</td>\n      <td>1</td>\n      <td>9</td>\n      <td>1</td>\n      <td>9</td>\n      <td>1</td>\n      <td>9</td>\n      <td>2</td>\n      <td>9</td>\n      <td>1</td>\n      <td>8</td>\n      <td>1</td>\n      <td>8</td>\n    </tr>\n  </tbody>\n</table>\n</div>"
     },
     "metadata": {},
     "execution_count": 41
    }
   ],
   "source": [
    "data.head()"
   ]
  },
  {
   "cell_type": "code",
   "execution_count": null,
   "metadata": {},
   "outputs": [],
   "source": []
  },
  {
   "source": [
    "We define the squema for the ahp analysis. In this case there are two layers of attributes: main and env."
   ],
   "cell_type": "markdown",
   "metadata": {}
  },
  {
   "cell_type": "code",
   "execution_count": 42,
   "metadata": {},
   "outputs": [],
   "source": [
    "squema = {\n",
    "        \"main\":{\n",
    "            \"range\":[1,13],\n",
    "            \"attributes\":[\"econ\",\"social\",\"env\",\"coste\"]\n",
    "        }\n",
    "    }"
   ]
  },
  {
   "source": [
    "The first step is to \"train\" the model with the survey dummy data: "
   ],
   "cell_type": "markdown",
   "metadata": {}
  },
  {
   "cell_type": "code",
   "execution_count": 43,
   "metadata": {},
   "outputs": [],
   "source": [
    "res = ahp(\n",
    "  train=True, # either train the squema from survey data or pass the pretrained squema through the squema argument\n",
    "  data=data, # Survey data\n",
    "  pow_value=10, # Pow value to invert the matrix\n",
    "  confidence=0.95, # Confidence level\n",
    "  cratio_threshold=1, # CR ratio threshold for filtering responses\n",
    "  squema=squema # Previously defined squema\n",
    ")"
   ]
  },
  {
   "source": [
    "As a result we can see the weights result for every respondent for every level of the hierarchy:"
   ],
   "cell_type": "markdown",
   "metadata": {}
  },
  {
   "cell_type": "code",
   "execution_count": 44,
   "metadata": {},
   "outputs": [
    {
     "output_type": "execute_result",
     "data": {
      "text/plain": [
       "       econ    social       env     coste\n",
       "0  0.575050  0.270541  0.041410  0.113000\n",
       "1  0.025368  0.226043  0.666080  0.082510\n",
       "2  0.603825  0.030860  0.097529  0.267786\n",
       "3  0.207756  0.082577  0.683096  0.026570\n",
       "4  0.043110  0.241866  0.623522  0.091503"
      ],
      "text/html": "<div>\n<style scoped>\n    .dataframe tbody tr th:only-of-type {\n        vertical-align: middle;\n    }\n\n    .dataframe tbody tr th {\n        vertical-align: top;\n    }\n\n    .dataframe thead th {\n        text-align: right;\n    }\n</style>\n<table border=\"1\" class=\"dataframe\">\n  <thead>\n    <tr style=\"text-align: right;\">\n      <th></th>\n      <th>econ</th>\n      <th>social</th>\n      <th>env</th>\n      <th>coste</th>\n    </tr>\n  </thead>\n  <tbody>\n    <tr>\n      <th>0</th>\n      <td>0.575050</td>\n      <td>0.270541</td>\n      <td>0.041410</td>\n      <td>0.113000</td>\n    </tr>\n    <tr>\n      <th>1</th>\n      <td>0.025368</td>\n      <td>0.226043</td>\n      <td>0.666080</td>\n      <td>0.082510</td>\n    </tr>\n    <tr>\n      <th>2</th>\n      <td>0.603825</td>\n      <td>0.030860</td>\n      <td>0.097529</td>\n      <td>0.267786</td>\n    </tr>\n    <tr>\n      <th>3</th>\n      <td>0.207756</td>\n      <td>0.082577</td>\n      <td>0.683096</td>\n      <td>0.026570</td>\n    </tr>\n    <tr>\n      <th>4</th>\n      <td>0.043110</td>\n      <td>0.241866</td>\n      <td>0.623522</td>\n      <td>0.091503</td>\n    </tr>\n  </tbody>\n</table>\n</div>"
     },
     "metadata": {},
     "execution_count": 44
    }
   ],
   "source": [
    "res.weights['main'].head()"
   ]
  },
  {
   "source": [
    "As well as their consistency ratio"
   ],
   "cell_type": "markdown",
   "metadata": {}
  },
  {
   "cell_type": "code",
   "execution_count": 46,
   "metadata": {},
   "outputs": [
    {
     "output_type": "execute_result",
     "data": {
      "text/plain": [
       "0    0.330175\n",
       "1    0.467657\n",
       "2    0.299182\n",
       "3    0.434959\n",
       "4    0.284975\n",
       "5    0.114592\n",
       "6    0.956655\n",
       "7    0.287853\n",
       "8    0.465639\n",
       "9    0.379011\n",
       "Name: cr_ratio, dtype: float64"
      ]
     },
     "metadata": {},
     "execution_count": 46
    }
   ],
   "source": [
    "res.cr[0:10]"
   ]
  },
  {
   "source": [
    "The average global weights can be seen directly in the squema:"
   ],
   "cell_type": "markdown",
   "metadata": {}
  },
  {
   "cell_type": "code",
   "execution_count": 47,
   "metadata": {},
   "outputs": [
    {
     "output_type": "execute_result",
     "data": {
      "text/plain": [
       "econ      0.210598\n",
       "social    0.238726\n",
       "env       0.405357\n",
       "coste     0.145320\n",
       "dtype: float64"
      ]
     },
     "metadata": {},
     "execution_count": 47
    }
   ],
   "source": [
    "res.squema['main']['weights_mean']"
   ]
  },
  {
   "source": [
    "In a second step we can use those precalculated weights to get a ranking of the followingn dummy alternatives:"
   ],
   "cell_type": "markdown",
   "metadata": {}
  },
  {
   "cell_type": "code",
   "execution_count": 48,
   "metadata": {},
   "outputs": [
    {
     "output_type": "execute_result",
     "data": {
      "text/plain": [
       "  Alternatives          econ           env  social      coste\n",
       "0       Zone A  2.673223e+06  10550.000000      12  602638.50\n",
       "1       Zone B  8.123286e+06     86.980000     100  216993.84\n",
       "2       Zone C  5.232053e+06      9.739231      50  249695.46"
      ],
      "text/html": "<div>\n<style scoped>\n    .dataframe tbody tr th:only-of-type {\n        vertical-align: middle;\n    }\n\n    .dataframe tbody tr th {\n        vertical-align: top;\n    }\n\n    .dataframe thead th {\n        text-align: right;\n    }\n</style>\n<table border=\"1\" class=\"dataframe\">\n  <thead>\n    <tr style=\"text-align: right;\">\n      <th></th>\n      <th>Alternatives</th>\n      <th>econ</th>\n      <th>env</th>\n      <th>social</th>\n      <th>coste</th>\n    </tr>\n  </thead>\n  <tbody>\n    <tr>\n      <th>0</th>\n      <td>Zone A</td>\n      <td>2.673223e+06</td>\n      <td>10550.000000</td>\n      <td>12</td>\n      <td>602638.50</td>\n    </tr>\n    <tr>\n      <th>1</th>\n      <td>Zone B</td>\n      <td>8.123286e+06</td>\n      <td>86.980000</td>\n      <td>100</td>\n      <td>216993.84</td>\n    </tr>\n    <tr>\n      <th>2</th>\n      <td>Zone C</td>\n      <td>5.232053e+06</td>\n      <td>9.739231</td>\n      <td>50</td>\n      <td>249695.46</td>\n    </tr>\n  </tbody>\n</table>\n</div>"
     },
     "metadata": {},
     "execution_count": 48
    }
   ],
   "source": [
    "dummy.head()"
   ]
  },
  {
   "source": [
    "We get the ranking storing it in the df variable and specifying that the attribute coste is a negative attribute (the lower its value the best)"
   ],
   "cell_type": "markdown",
   "metadata": {}
  },
  {
   "cell_type": "code",
   "execution_count": 49,
   "metadata": {},
   "outputs": [
    {
     "output_type": "stream",
     "name": "stderr",
     "text": [
      "/usr/local/lib/python3.8/dist-packages/pandas/core/indexing.py:1637: SettingWithCopyWarning: \nA value is trying to be set on a copy of a slice from a DataFrame\n\nSee the caveats in the documentation: https://pandas.pydata.org/pandas-docs/stable/user_guide/indexing.html#returning-a-view-versus-a-copy\n  self._setitem_single_block(indexer, value, name)\n/usr/local/lib/python3.8/dist-packages/pandas/core/indexing.py:1637: SettingWithCopyWarning: \nA value is trying to be set on a copy of a slice from a DataFrame\n\nSee the caveats in the documentation: https://pandas.pydata.org/pandas-docs/stable/user_guide/indexing.html#returning-a-view-versus-a-copy\n  self._setitem_single_block(indexer, value, name)\n/usr/local/lib/python3.8/dist-packages/pandas/core/indexing.py:1637: SettingWithCopyWarning: \nA value is trying to be set on a copy of a slice from a DataFrame\n\nSee the caveats in the documentation: https://pandas.pydata.org/pandas-docs/stable/user_guide/indexing.html#returning-a-view-versus-a-copy\n  self._setitem_single_block(indexer, value, name)\n"
     ]
    },
    {
     "output_type": "execute_result",
     "data": {
      "text/plain": [
       "                  econ       env    social     coste    weight\n",
       "Alternatives                                                  \n",
       "Zone A        0.166779  0.990916  0.074074  0.161532  0.477955\n",
       "Zone B        0.506801  0.008170  0.617284  0.448610  0.322596\n",
       "Zone C        0.326421  0.000915  0.308642  0.389857  0.199449"
      ],
      "text/html": "<div>\n<style scoped>\n    .dataframe tbody tr th:only-of-type {\n        vertical-align: middle;\n    }\n\n    .dataframe tbody tr th {\n        vertical-align: top;\n    }\n\n    .dataframe thead th {\n        text-align: right;\n    }\n</style>\n<table border=\"1\" class=\"dataframe\">\n  <thead>\n    <tr style=\"text-align: right;\">\n      <th></th>\n      <th>econ</th>\n      <th>env</th>\n      <th>social</th>\n      <th>coste</th>\n      <th>weight</th>\n    </tr>\n    <tr>\n      <th>Alternatives</th>\n      <th></th>\n      <th></th>\n      <th></th>\n      <th></th>\n      <th></th>\n    </tr>\n  </thead>\n  <tbody>\n    <tr>\n      <th>Zone A</th>\n      <td>0.166779</td>\n      <td>0.990916</td>\n      <td>0.074074</td>\n      <td>0.161532</td>\n      <td>0.477955</td>\n    </tr>\n    <tr>\n      <th>Zone B</th>\n      <td>0.506801</td>\n      <td>0.008170</td>\n      <td>0.617284</td>\n      <td>0.448610</td>\n      <td>0.322596</td>\n    </tr>\n    <tr>\n      <th>Zone C</th>\n      <td>0.326421</td>\n      <td>0.000915</td>\n      <td>0.308642</td>\n      <td>0.389857</td>\n      <td>0.199449</td>\n    </tr>\n  </tbody>\n</table>\n</div>"
     },
     "metadata": {},
     "execution_count": 49
    }
   ],
   "source": [
    "df = res.set_ahp_weights(dummy, inverse = ['coste'])\n",
    "df"
   ]
  },
  {
   "cell_type": "code",
   "execution_count": 50,
   "metadata": {},
   "outputs": [
    {
     "output_type": "execute_result",
     "data": {
      "text/plain": [
       "{'econ': Alternatives    Zone A    Zone B    Zone C  priorities\n",
       " Alternatives                                          \n",
       " Zone A        1.000000  0.329081  0.510932    0.166779\n",
       " Zone B        3.038761  1.000000  1.552600    0.506801\n",
       " Zone C        1.957208  0.644081  1.000000    0.326421,\n",
       " 'env': Alternatives    Zone A      Zone B       Zone C  priorities\n",
       " Alternatives                                               \n",
       " Zone A        1.000000  121.292251  1083.247769    0.990916\n",
       " Zone B        0.008245    1.000000     8.930890    0.008170\n",
       " Zone C        0.000923    0.111971     1.000000    0.000915,\n",
       " 'social': Alternatives    Zone A  Zone B  Zone C  priorities\n",
       " Alternatives                                      \n",
       " Zone A        1.000000    0.12    0.24    0.074074\n",
       " Zone B        8.333333    1.00    2.00    0.617284\n",
       " Zone C        4.166667    0.50    1.00    0.308642,\n",
       " 'coste': Alternatives    Zone A    Zone B    Zone C  priorities\n",
       " Alternatives                                          \n",
       " Zone A        1.000000  0.360073  0.414337    0.161532\n",
       " Zone B        2.777215  1.000000  1.150703    0.448610\n",
       " Zone C        2.413494  0.869034  1.000000    0.389857}"
      ]
     },
     "metadata": {},
     "execution_count": 50
    }
   ],
   "source": [
    "res.attribute_pairwise_matrix"
   ]
  }
 ]
}